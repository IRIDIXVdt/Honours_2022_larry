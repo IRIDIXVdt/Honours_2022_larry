{
 "cells": [
  {
   "cell_type": "code",
   "execution_count": 1,
   "id": "cb133413-25a9-48f3-8952-71680588a95e",
   "metadata": {},
   "outputs": [],
   "source": [
    "import pandas as pd\n",
    "import json"
   ]
  },
  {
   "cell_type": "code",
   "execution_count": 2,
   "id": "368ceab1-e8f8-4b6e-8dda-10c8d2d9ea6d",
   "metadata": {},
   "outputs": [],
   "source": [
    "chapter = 13\n",
    "df_process = pd.read_csv(f\"../data/L{chapter}.csv\", names=[\"spell\",\"term\",\"english\"])"
   ]
  }
 ],
 "metadata": {
  "kernelspec": {
   "display_name": "Python 3 (ipykernel)",
   "language": "python",
   "name": "python3"
  },
  "language_info": {
   "codemirror_mode": {
    "name": "ipython",
    "version": 3
   },
   "file_extension": ".py",
   "mimetype": "text/x-python",
   "name": "python",
   "nbconvert_exporter": "python",
   "pygments_lexer": "ipython3",
   "version": "3.9.7"
  }
 },
 "nbformat": 4,
 "nbformat_minor": 5
}
